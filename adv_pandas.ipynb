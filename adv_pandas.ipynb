{
 "cells": [
  {
   "cell_type": "code",
   "execution_count": null,
   "id": "53f66b2d",
   "metadata": {},
   "outputs": [],
   "source": [
    "import pandas as pd\n",
    "import numpy as np\n"
   ]
  },
  {
   "cell_type": "code",
   "execution_count": null,
   "id": "01598c7d",
   "metadata": {},
   "outputs": [],
   "source": [
    "my_Data=pd.read_csv(\"tips.csv\")"
   ]
  },
  {
   "cell_type": "code",
   "execution_count": null,
   "id": "5f5d6cc8",
   "metadata": {},
   "outputs": [],
   "source": [
    "my=np.random.randint(0,50,(4,3))"
   ]
  },
  {
   "cell_type": "code",
   "execution_count": null,
   "id": "51ef8b29",
   "metadata": {},
   "outputs": [],
   "source": [
    "my"
   ]
  },
  {
   "cell_type": "code",
   "execution_count": null,
   "id": "9f770977",
   "metadata": {},
   "outputs": [],
   "source": [
    "my_Index=[\"india\",\"japan\",\"Australia\",\"newziland\"]\n"
   ]
  },
  {
   "cell_type": "code",
   "execution_count": null,
   "id": "47eec188",
   "metadata": {},
   "outputs": [],
   "source": [
    "column=[\"jan\",\"feb\",\"mar\"]"
   ]
  },
  {
   "cell_type": "code",
   "execution_count": null,
   "id": "47378120",
   "metadata": {},
   "outputs": [],
   "source": [
    "df=pd.DataFrame(my_Data,index=my_Index,columns=column)"
   ]
  },
  {
   "cell_type": "code",
   "execution_count": null,
   "id": "9ab08ab5",
   "metadata": {},
   "outputs": [],
   "source": [
    "df"
   ]
  },
  {
   "cell_type": "code",
   "execution_count": null,
   "id": "9614b2c8",
   "metadata": {},
   "outputs": [],
   "source": [
    "df=pd.read_csv(\"tips.csv\")"
   ]
  },
  {
   "cell_type": "code",
   "execution_count": null,
   "id": "6dc6aac0",
   "metadata": {},
   "outputs": [],
   "source": [
    "df"
   ]
  },
  {
   "cell_type": "code",
   "execution_count": null,
   "id": "9c898a7b",
   "metadata": {},
   "outputs": [],
   "source": [
    "df=pd.read_csv(\"tips.csv\")"
   ]
  },
  {
   "cell_type": "code",
   "execution_count": null,
   "id": "96550d9e",
   "metadata": {},
   "outputs": [],
   "source": [
    "df"
   ]
  },
  {
   "cell_type": "code",
   "execution_count": null,
   "id": "c82dece0",
   "metadata": {},
   "outputs": [],
   "source": [
    "df.head()"
   ]
  },
  {
   "cell_type": "code",
   "execution_count": null,
   "id": "a3c1b0d7",
   "metadata": {},
   "outputs": [],
   "source": [
    "df.tail()"
   ]
  },
  {
   "cell_type": "markdown",
   "id": "649b7322",
   "metadata": {},
   "source": []
  },
  {
   "cell_type": "code",
   "execution_count": null,
   "id": "668a0b4e",
   "metadata": {},
   "outputs": [],
   "source": [
    "df.columns"
   ]
  },
  {
   "cell_type": "code",
   "execution_count": null,
   "id": "2f8fe20a",
   "metadata": {},
   "outputs": [],
   "source": [
    "df.index"
   ]
  },
  {
   "cell_type": "code",
   "execution_count": null,
   "id": "c9aa1782",
   "metadata": {},
   "outputs": [],
   "source": [
    "df=df.rename(columns={\"tip\":\"tips\"})"
   ]
  },
  {
   "cell_type": "code",
   "execution_count": null,
   "id": "1fbc0524",
   "metadata": {},
   "outputs": [],
   "source": [
    "df.head()"
   ]
  },
  {
   "cell_type": "code",
   "execution_count": null,
   "id": "24e0638f",
   "metadata": {},
   "outputs": [],
   "source": [
    "df=df.rename(columns={\"tips\":\"tip\"})"
   ]
  },
  {
   "cell_type": "code",
   "execution_count": null,
   "id": "84aba956",
   "metadata": {},
   "outputs": [],
   "source": [
    "df"
   ]
  },
  {
   "cell_type": "code",
   "execution_count": null,
   "id": "53b94172",
   "metadata": {},
   "outputs": [],
   "source": [
    "df.describe()"
   ]
  },
  {
   "cell_type": "code",
   "execution_count": null,
   "id": "6003f485",
   "metadata": {},
   "outputs": [],
   "source": [
    "df.describe().transpose()"
   ]
  },
  {
   "cell_type": "code",
   "execution_count": null,
   "id": "be6d9d58",
   "metadata": {},
   "outputs": [],
   "source": [
    "df.describe().transpose()"
   ]
  },
  {
   "cell_type": "code",
   "execution_count": null,
   "id": "886ea455",
   "metadata": {},
   "outputs": [],
   "source": [
    "# df[[\"total_bill\"]].head(3)"
   ]
  },
  {
   "cell_type": "code",
   "execution_count": null,
   "id": "d553074c",
   "metadata": {},
   "outputs": [],
   "source": [
    "# df[[\"total_bill\"]].tail(3)"
   ]
  },
  {
   "cell_type": "code",
   "execution_count": null,
   "id": "92651c5d",
   "metadata": {},
   "outputs": [],
   "source": [
    "# df[[\"total_bill\",\"tip\"]].head(3)"
   ]
  },
  {
   "cell_type": "code",
   "execution_count": null,
   "id": "0464aaba",
   "metadata": {},
   "outputs": [],
   "source": [
    "df[\"tip_percentage\"]=round(df['tip']/df[\"total_bill\"]*100,2)"
   ]
  },
  {
   "cell_type": "code",
   "execution_count": null,
   "id": "8f54d6fd",
   "metadata": {},
   "outputs": [],
   "source": [
    "df.head(3)"
   ]
  },
  {
   "cell_type": "code",
   "execution_count": null,
   "id": "aae81e59",
   "metadata": {},
   "outputs": [],
   "source": [
    "df.drop(\"tip_percentage\" ,axis=1,inplace=True)"
   ]
  },
  {
   "cell_type": "code",
   "execution_count": null,
   "id": "1062de40",
   "metadata": {},
   "outputs": [],
   "source": [
    "\n",
    "df.head()"
   ]
  },
  {
   "cell_type": "code",
   "execution_count": null,
   "id": "58839bea",
   "metadata": {},
   "outputs": [],
   "source": [
    "df[\"perpercentage\"]=round(df[\"tip\"]/df[\"total_bill\"]*100,2)"
   ]
  },
  {
   "cell_type": "code",
   "execution_count": null,
   "id": "6150329e",
   "metadata": {},
   "outputs": [],
   "source": [
    "df.drop(\"perpercentage\",axis=1,inplace=True)"
   ]
  },
  {
   "cell_type": "code",
   "execution_count": null,
   "id": "b71b003c",
   "metadata": {},
   "outputs": [],
   "source": [
    "df"
   ]
  },
  {
   "cell_type": "code",
   "execution_count": null,
   "id": "4e17b247",
   "metadata": {},
   "outputs": [],
   "source": [
    "df=df.set_index(\"day\").head()"
   ]
  },
  {
   "cell_type": "code",
   "execution_count": null,
   "id": "04cddf49",
   "metadata": {},
   "outputs": [],
   "source": [
    "df"
   ]
  },
  {
   "cell_type": "code",
   "execution_count": null,
   "id": "026cb5ea",
   "metadata": {},
   "outputs": [],
   "source": [
    "df=df.reset_index()"
   ]
  },
  {
   "cell_type": "code",
   "execution_count": null,
   "id": "80119e6d",
   "metadata": {},
   "outputs": [],
   "source": [
    "df"
   ]
  },
  {
   "cell_type": "code",
   "execution_count": null,
   "id": "61defa29",
   "metadata": {},
   "outputs": [],
   "source": [
    "df.iloc[0]"
   ]
  },
  {
   "cell_type": "code",
   "execution_count": null,
   "id": "73f88a11",
   "metadata": {},
   "outputs": [],
   "source": [
    "df.iloc[1:5]"
   ]
  },
  {
   "cell_type": "code",
   "execution_count": null,
   "id": "a961b868",
   "metadata": {},
   "outputs": [],
   "source": [
    "# df.loc[[\"1\",\"2\"]]"
   ]
  },
  {
   "cell_type": "code",
   "execution_count": null,
   "id": "f3c49a89",
   "metadata": {},
   "outputs": [],
   "source": [
    "# condition opration in pandas\n"
   ]
  },
  {
   "cell_type": "code",
   "execution_count": null,
   "id": "f8ff7fff",
   "metadata": {},
   "outputs": [],
   "source": [
    "new_df=pd.read_csv(\"tips.csv\")\n",
    "\n",
    "new_df.head()"
   ]
  },
  {
   "cell_type": "code",
   "execution_count": null,
   "id": "c9002643",
   "metadata": {},
   "outputs": [],
   "source": [
    "new_df[new_df[\"total_bill\"]>40].head()"
   ]
  },
  {
   "cell_type": "code",
   "execution_count": null,
   "id": "7f443701",
   "metadata": {},
   "outputs": [],
   "source": [
    "new_df[new_df[\"sex\"]=='Male'].count()"
   ]
  },
  {
   "cell_type": "code",
   "execution_count": null,
   "id": "7cf21e9b",
   "metadata": {},
   "outputs": [],
   "source": [
    "new_df[(new_df[\"sex\"]==\"Male\")|(new_df[\"total_bill\"]>30)]"
   ]
  },
  {
   "cell_type": "code",
   "execution_count": null,
   "id": "21addded",
   "metadata": {},
   "outputs": [],
   "source": [
    "option=[\"Sat\",\"Sun\"]"
   ]
  },
  {
   "cell_type": "code",
   "execution_count": null,
   "id": "468ae1e6",
   "metadata": {},
   "outputs": [],
   "source": [
    "new_df[new_df[\"day\"].isin(option)]"
   ]
  },
  {
   "cell_type": "code",
   "execution_count": null,
   "id": "b2fbc76c",
   "metadata": {},
   "outputs": [],
   "source": [
    "option=[\"Male\",\"Female\"]"
   ]
  },
  {
   "cell_type": "code",
   "execution_count": null,
   "id": "02fbcff3",
   "metadata": {},
   "outputs": [],
   "source": [
    "new_df[new_df[\"sex\"].isin(option)].tail(2)"
   ]
  },
  {
   "cell_type": "code",
   "execution_count": null,
   "id": "180da1f7",
   "metadata": {},
   "outputs": [],
   "source": [
    "def Last_Four(num):\n",
    "    return str(num)[-4:]"
   ]
  },
  {
   "cell_type": "code",
   "execution_count": null,
   "id": "e49c4cdd",
   "metadata": {},
   "outputs": [],
   "source": [
    "Last_Four(945723487)"
   ]
  },
  {
   "cell_type": "code",
   "execution_count": null,
   "id": "17905610",
   "metadata": {},
   "outputs": [],
   "source": [
    "def Last_Four(num):\n",
    "    return str(num)[-3:]"
   ]
  },
  {
   "cell_type": "code",
   "execution_count": null,
   "id": "829a795e",
   "metadata": {},
   "outputs": [],
   "source": [
    "Last_Four(79574874594)"
   ]
  },
  {
   "cell_type": "code",
   "execution_count": null,
   "id": "9f413733",
   "metadata": {},
   "outputs": [],
   "source": [
    "new_df[\"Last Four\"]=new_df[\"size\"].apply(Last_Four)\n",
    "\n"
   ]
  },
  {
   "cell_type": "code",
   "execution_count": null,
   "id": "e8c7cf7c",
   "metadata": {},
   "outputs": [],
   "source": [
    "new_df.head(2)"
   ]
  },
  {
   "cell_type": "code",
   "execution_count": null,
   "id": "d9fdfc00",
   "metadata": {},
   "outputs": [],
   "source": [
    "def yelp(price):\n",
    "    if price <10:\n",
    "        return \"$\"\n",
    "    elif price >=10 and price<30:\n",
    "        return \"$$\"\n",
    "    else:\n",
    "        return \"$$$\""
   ]
  },
  {
   "cell_type": "code",
   "execution_count": null,
   "id": "ad29fd70",
   "metadata": {},
   "outputs": [],
   "source": [
    "# yelp(10)"
   ]
  },
  {
   "cell_type": "code",
   "execution_count": null,
   "id": "1a733ecc",
   "metadata": {},
   "outputs": [],
   "source": [
    "new_df[\"Yelp\"]=new_df[\"total_bill\"].apply(yelp)"
   ]
  },
  {
   "cell_type": "code",
   "execution_count": null,
   "id": "56c8f6e6",
   "metadata": {},
   "outputs": [],
   "source": [
    "new_df.head(5)"
   ]
  },
  {
   "cell_type": "code",
   "execution_count": null,
   "id": "06a4fa49",
   "metadata": {},
   "outputs": [],
   "source": [
    "def siz(count):\n",
    "    if count<1:\n",
    "        return \"@\"\n",
    "    elif count>2:\n",
    "        return \"@@\"\n",
    "    else:\n",
    "        return \"@@@\"\n",
    "    "
   ]
  },
  {
   "cell_type": "code",
   "execution_count": null,
   "id": "1cd9807c",
   "metadata": {},
   "outputs": [],
   "source": [
    "siz(7)"
   ]
  },
  {
   "cell_type": "code",
   "execution_count": null,
   "id": "7ccd5782",
   "metadata": {},
   "outputs": [],
   "source": [
    "new_df[\"siz\"]=new_df[\"size\"].apply(siz)"
   ]
  },
  {
   "cell_type": "code",
   "execution_count": null,
   "id": "97797dd4",
   "metadata": {},
   "outputs": [],
   "source": [
    "new_df.head(3)"
   ]
  },
  {
   "cell_type": "code",
   "execution_count": null,
   "id": "55416e45",
   "metadata": {},
   "outputs": [],
   "source": [
    "# APPLY MULTIPLE COLUMNS "
   ]
  },
  {
   "cell_type": "code",
   "execution_count": null,
   "id": "bb3c7469",
   "metadata": {},
   "outputs": [],
   "source": [
    "def quality (total_bill,tip):\n",
    "    if total_bill/tip>0.25:\n",
    "        return \"Generous\"\n",
    "    else:\n",
    "        return \"other\""
   ]
  },
  {
   "cell_type": "code",
   "execution_count": null,
   "id": "789d9b28",
   "metadata": {},
   "outputs": [],
   "source": [
    "quality(16.00,1.01)"
   ]
  },
  {
   "cell_type": "code",
   "execution_count": null,
   "id": "8a30afaa",
   "metadata": {},
   "outputs": [],
   "source": [
    "# new_df[\"Quality\"]=new_df[[\"total_bill\",\"tip\"]].apply(quality)"
   ]
  },
  {
   "cell_type": "code",
   "execution_count": null,
   "id": "31ba979a",
   "metadata": {},
   "outputs": [],
   "source": [
    "# sorting method in pandas"
   ]
  },
  {
   "cell_type": "code",
   "execution_count": null,
   "id": "501ca370",
   "metadata": {},
   "outputs": [],
   "source": [
    "df=pd.read_csv(\"tips.csv\")"
   ]
  },
  {
   "cell_type": "code",
   "execution_count": null,
   "id": "13d04951",
   "metadata": {},
   "outputs": [],
   "source": [
    "df.head(2)"
   ]
  },
  {
   "cell_type": "code",
   "execution_count": null,
   "id": "cc6affa4",
   "metadata": {},
   "outputs": [],
   "source": [
    "df.sort_values([\"tip\",\"size\"]).head()"
   ]
  },
  {
   "cell_type": "code",
   "execution_count": null,
   "id": "81b7000e",
   "metadata": {},
   "outputs": [],
   "source": [
    "df[\"total_bill\"].max()"
   ]
  },
  {
   "cell_type": "code",
   "execution_count": null,
   "id": "a28ae919",
   "metadata": {},
   "outputs": [],
   "source": [
    "df[\"total_bill\"].idxmax()"
   ]
  },
  {
   "cell_type": "code",
   "execution_count": null,
   "id": "cd80be06",
   "metadata": {},
   "outputs": [],
   "source": [
    "df[\"total_bill\"].min()"
   ]
  },
  {
   "cell_type": "code",
   "execution_count": null,
   "id": "bc7c6a73",
   "metadata": {},
   "outputs": [],
   "source": [
    "df[\"total_bill\"].idxmin()"
   ]
  },
  {
   "cell_type": "code",
   "execution_count": null,
   "id": "54ad7320",
   "metadata": {},
   "outputs": [],
   "source": [
    "df.iloc[67]"
   ]
  },
  {
   "cell_type": "code",
   "execution_count": null,
   "id": "045f3449",
   "metadata": {},
   "outputs": [],
   "source": [
    "# df.corr()"
   ]
  },
  {
   "cell_type": "code",
   "execution_count": null,
   "id": "bddaa310",
   "metadata": {},
   "outputs": [],
   "source": [
    "df[\"sex\"].value_counts()"
   ]
  },
  {
   "cell_type": "code",
   "execution_count": null,
   "id": "825e976d",
   "metadata": {},
   "outputs": [],
   "source": [
    "df[\"day\"].unique()"
   ]
  },
  {
   "cell_type": "code",
   "execution_count": null,
   "id": "3805f7b3",
   "metadata": {},
   "outputs": [],
   "source": [
    "df[\"day\"].nunique()"
   ]
  },
  {
   "cell_type": "code",
   "execution_count": null,
   "id": "a29d2a9f",
   "metadata": {},
   "outputs": [],
   "source": [
    "df.head(3)"
   ]
  },
  {
   "cell_type": "code",
   "execution_count": null,
   "id": "53a824fb",
   "metadata": {},
   "outputs": [],
   "source": [
    "df[\"sex\"].replace([\"Female\",\"Male\"],[\"F\",\"M\"])"
   ]
  },
  {
   "cell_type": "code",
   "execution_count": null,
   "id": "18a5db7f",
   "metadata": {},
   "outputs": [],
   "source": [
    "mymap={\"Female\":\"F\",\"Male\":\"M\"}"
   ]
  },
  {
   "cell_type": "code",
   "execution_count": null,
   "id": "4c175ddc",
   "metadata": {},
   "outputs": [],
   "source": [
    "mymap"
   ]
  },
  {
   "cell_type": "code",
   "execution_count": null,
   "id": "d732bbe1",
   "metadata": {},
   "outputs": [],
   "source": [
    "df[\"sex\"].map(mymap)"
   ]
  },
  {
   "cell_type": "code",
   "execution_count": null,
   "id": "d5df38ce",
   "metadata": {},
   "outputs": [],
   "source": [
    "df.duplicated()"
   ]
  },
  {
   "cell_type": "code",
   "execution_count": null,
   "id": "6b5acde4",
   "metadata": {},
   "outputs": [],
   "source": [
    "df.drop_duplicates().head(5)"
   ]
  },
  {
   "cell_type": "code",
   "execution_count": null,
   "id": "84834d75",
   "metadata": {},
   "outputs": [],
   "source": [
    "df[df[\"total_bill\"].between(10,30)]"
   ]
  },
  {
   "cell_type": "code",
   "execution_count": null,
   "id": "1949a2ba",
   "metadata": {},
   "outputs": [],
   "source": [
    "df.head(4)"
   ]
  },
  {
   "cell_type": "code",
   "execution_count": null,
   "id": "6b1468e3",
   "metadata": {},
   "outputs": [],
   "source": [
    "# df[df[\"tip\"]==1.01]\n",
    "# df[df[\"total_bill\"]==23.68]\n",
    "res=df.loc[df[\"total_bill\"]==23.68]\n",
    "print(res)"
   ]
  },
  {
   "cell_type": "code",
   "execution_count": null,
   "id": "5127086d",
   "metadata": {},
   "outputs": [],
   "source": [
    "# df"
   ]
  },
  {
   "cell_type": "code",
   "execution_count": null,
   "id": "01ef1f36",
   "metadata": {},
   "outputs": [],
   "source": [
    "df.nlargest(6,\"total_bill\")"
   ]
  },
  {
   "cell_type": "code",
   "execution_count": null,
   "id": "b231c7fd",
   "metadata": {},
   "outputs": [],
   "source": [
    "df.nsmallest(5,\"tip\")"
   ]
  },
  {
   "cell_type": "code",
   "execution_count": null,
   "id": "73f77756",
   "metadata": {},
   "outputs": [],
   "source": [
    "df.sample(5)"
   ]
  },
  {
   "cell_type": "code",
   "execution_count": null,
   "id": "925c35b8",
   "metadata": {},
   "outputs": [],
   "source": [
    "df.sample(frac=0.05)"
   ]
  },
  {
   "cell_type": "code",
   "execution_count": null,
   "id": "5cf9fd39",
   "metadata": {},
   "outputs": [],
   "source": [
    "df.head(5)"
   ]
  },
  {
   "cell_type": "code",
   "execution_count": null,
   "id": "a18177ec",
   "metadata": {},
   "outputs": [],
   "source": [
    "df.isnull()"
   ]
  },
  {
   "cell_type": "code",
   "execution_count": null,
   "id": "ec7bd0c4",
   "metadata": {},
   "outputs": [],
   "source": [
    "df.notnull()"
   ]
  },
  {
   "cell_type": "code",
   "execution_count": null,
   "id": "43f06574",
   "metadata": {},
   "outputs": [],
   "source": [
    "df[df[\"total_bill\"].notnull()]"
   ]
  },
  {
   "cell_type": "code",
   "execution_count": null,
   "id": "786b32a8",
   "metadata": {},
   "outputs": [],
   "source": [
    "df[df[\"total_bill\"].isnull()]"
   ]
  },
  {
   "cell_type": "code",
   "execution_count": null,
   "id": "cb9941a3",
   "metadata": {},
   "outputs": [],
   "source": [
    "df[(df[\"total_bill\"].isnull()) & (df[\"tip\"].notnull())]"
   ]
  },
  {
   "cell_type": "code",
   "execution_count": null,
   "id": "b98b38db",
   "metadata": {},
   "outputs": [],
   "source": [
    "df.dropna()"
   ]
  },
  {
   "cell_type": "code",
   "execution_count": null,
   "id": "f1fc9d9a",
   "metadata": {},
   "outputs": [],
   "source": [
    "df.dropna(thresh=1)"
   ]
  },
  {
   "cell_type": "code",
   "execution_count": null,
   "id": "6b8ae6eb",
   "metadata": {},
   "outputs": [],
   "source": [
    "df.fillna(\"xyz\")"
   ]
  },
  {
   "cell_type": "code",
   "execution_count": null,
   "id": "894b58b8",
   "metadata": {},
   "outputs": [],
   "source": [
    "# df[\"time\"]==\"xyz\"\n",
    "df.head(3)"
   ]
  },
  {
   "cell_type": "code",
   "execution_count": null,
   "id": "69f16bfd",
   "metadata": {},
   "outputs": [],
   "source": [
    "df[(df[\"total_bill\"]==16.99).fillna(\"gfdj\")]"
   ]
  },
  {
   "cell_type": "code",
   "execution_count": null,
   "id": "b094b7d4",
   "metadata": {},
   "outputs": [],
   "source": [
    "df.head(2)"
   ]
  },
  {
   "cell_type": "code",
   "execution_count": null,
   "id": "3297e760",
   "metadata": {},
   "outputs": [],
   "source": [
    "messy_names=pd.Series([ \"MiLiNd\",\"Kanchan\",\"Rohit\",\"SNehal \"])"
   ]
  },
  {
   "cell_type": "code",
   "execution_count": null,
   "id": "3690f657",
   "metadata": {},
   "outputs": [],
   "source": [
    "messy_names"
   ]
  },
  {
   "cell_type": "code",
   "execution_count": null,
   "id": "aae0a246",
   "metadata": {},
   "outputs": [],
   "source": [
    "l1=list(messy_names.str.strip().str.capitalize())"
   ]
  },
  {
   "cell_type": "code",
   "execution_count": null,
   "id": "505bc01a",
   "metadata": {},
   "outputs": [],
   "source": [
    "l1"
   ]
  },
  {
   "cell_type": "code",
   "execution_count": null,
   "id": "a0a4da24",
   "metadata": {},
   "outputs": [],
   "source": [
    "registrations = pd.DataFrame({'reg_id':[1,2,3,4],'name':[\"Andrew\",'Bobo','Claire','David']})\n",
    "login=pd.DataFrame({'log_id':[1,2,3,4],'name':['xavier','Andrew','Yolanda','Bobo']})"
   ]
  },
  {
   "cell_type": "code",
   "execution_count": null,
   "id": "088a7438",
   "metadata": {},
   "outputs": [],
   "source": [
    "registrations"
   ]
  },
  {
   "cell_type": "code",
   "execution_count": null,
   "id": "0860d6de",
   "metadata": {},
   "outputs": [],
   "source": [
    "login"
   ]
  },
  {
   "cell_type": "code",
   "execution_count": null,
   "id": "b32f1594",
   "metadata": {},
   "outputs": [],
   "source": [
    "pd.merge(registrations,login,how=\"inner\",on='name')"
   ]
  },
  {
   "cell_type": "code",
   "execution_count": null,
   "id": "bff6079c",
   "metadata": {},
   "outputs": [],
   "source": [
    "# Series\n",
    "\n",
    "s=pd.Series([1,-3,4,5], index=['a','b','r','u'])"
   ]
  },
  {
   "cell_type": "code",
   "execution_count": null,
   "id": "d543073e",
   "metadata": {},
   "outputs": [],
   "source": [
    "s"
   ]
  },
  {
   "cell_type": "code",
   "execution_count": null,
   "id": "70aa0e05",
   "metadata": {},
   "outputs": [],
   "source": [
    "data={'Country':['Belgium','Indai','Brazil'],'Population':[643769,659375,894735]}"
   ]
  },
  {
   "cell_type": "code",
   "execution_count": null,
   "id": "8f637be8",
   "metadata": {},
   "outputs": [],
   "source": [
    "dfg=pd.DataFrame(data, columns=['Country','Population'])"
   ]
  },
  {
   "cell_type": "code",
   "execution_count": null,
   "id": "8a8fd791",
   "metadata": {},
   "outputs": [],
   "source": [
    "# df.iloc([0],[0])\n",
    "# df.iloc([0],[\"Country\"])"
   ]
  },
  {
   "cell_type": "code",
   "execution_count": null,
   "id": "7c0cb7f3",
   "metadata": {},
   "outputs": [],
   "source": [
    "import pandas as pd\n",
    "# df=pd.read_csv('tips.csv', header=None, nrows=5)"
   ]
  },
  {
   "cell_type": "code",
   "execution_count": null,
   "id": "4f9a68ab",
   "metadata": {},
   "outputs": [],
   "source": [
    "# df.loc([0],['total_bill)"
   ]
  },
  {
   "cell_type": "code",
   "execution_count": null,
   "id": "e85f3d1e",
   "metadata": {},
   "outputs": [],
   "source": [
    "# df1=print(df.to_csv('tips.csv'))"
   ]
  },
  {
   "cell_type": "code",
   "execution_count": null,
   "id": "d35f7f62",
   "metadata": {},
   "outputs": [],
   "source": [
    "# df=pd.read_excel('file.xlsx')"
   ]
  },
  {
   "cell_type": "code",
   "execution_count": null,
   "id": "a41fcb9c",
   "metadata": {},
   "outputs": [],
   "source": [
    "# xlsx= pd.ExcelFile('file.xls')"
   ]
  },
  {
   "cell_type": "code",
   "execution_count": null,
   "id": "fcfcc19b",
   "metadata": {},
   "outputs": [],
   "source": [
    "# help(pd.Series.loc)"
   ]
  },
  {
   "cell_type": "code",
   "execution_count": null,
   "id": "d37c57d3",
   "metadata": {},
   "outputs": [],
   "source": [
    "# help(pd.Series.loc)"
   ]
  },
  {
   "cell_type": "code",
   "execution_count": null,
   "id": "e9b3c7f9",
   "metadata": {},
   "outputs": [],
   "source": [
    "s['b']"
   ]
  },
  {
   "cell_type": "code",
   "execution_count": null,
   "id": "4778f4ea",
   "metadata": {},
   "outputs": [],
   "source": [
    "s['b']=9"
   ]
  },
  {
   "cell_type": "code",
   "execution_count": null,
   "id": "de72b2b4",
   "metadata": {},
   "outputs": [],
   "source": [
    "s['b']"
   ]
  },
  {
   "cell_type": "code",
   "execution_count": null,
   "id": "672d4ee9",
   "metadata": {},
   "outputs": [],
   "source": [
    "dfg[1:]"
   ]
  },
  {
   "cell_type": "code",
   "execution_count": null,
   "id": "4aa775f3",
   "metadata": {},
   "outputs": [],
   "source": [
    "# pdf.iloc([0][0])"
   ]
  },
  {
   "cell_type": "code",
   "execution_count": null,
   "id": "538df347",
   "metadata": {},
   "outputs": [],
   "source": [
    "# pdf.iloc([0][0])"
   ]
  },
  {
   "cell_type": "code",
   "execution_count": null,
   "id": "802d27dc",
   "metadata": {},
   "outputs": [],
   "source": [
    "# dfg.[2]"
   ]
  },
  {
   "cell_type": "code",
   "execution_count": null,
   "id": "bb97cb71",
   "metadata": {},
   "outputs": [],
   "source": [
    "#  Read and write to sql query or database table\n",
    "# from sqlalchemy import  create_engine\n",
    "# engine = create_engine('sqlite:///:memory:')\n",
    "# pd.read_sql(\"Select * From my_table;\", engine)\n",
    "\n",
    "# pd.read_sql_table('my_table', engine)\n",
    "# pd.read_sql_query(\"select * from my_table;\",engine)\n",
    "\n",
    "# pd.to_sql('mydf',engine)"
   ]
  },
  {
   "cell_type": "code",
   "execution_count": null,
   "id": "1256303d",
   "metadata": {},
   "outputs": [],
   "source": [
    "pdf"
   ]
  },
  {
   "cell_type": "code",
   "execution_count": null,
   "id": "8e7ddcbd",
   "metadata": {},
   "outputs": [],
   "source": [
    "s"
   ]
  },
  {
   "cell_type": "code",
   "execution_count": null,
   "id": "4c9f6ae7",
   "metadata": {},
   "outputs": [],
   "source": [
    "s.drop(['a'])"
   ]
  },
  {
   "cell_type": "code",
   "execution_count": null,
   "id": "5b80609a",
   "metadata": {},
   "outputs": [],
   "source": [
    "s.drop(['b','r'])"
   ]
  },
  {
   "cell_type": "code",
   "execution_count": null,
   "id": "a0973042",
   "metadata": {},
   "outputs": [],
   "source": [
    "dfg.drop(1)\n",
    "# dfg"
   ]
  },
  {
   "cell_type": "code",
   "execution_count": null,
   "id": "0eb8f27a",
   "metadata": {},
   "outputs": [],
   "source": [
    "dfg.sort_index()"
   ]
  },
  {
   "cell_type": "code",
   "execution_count": null,
   "id": "19193d9f",
   "metadata": {},
   "outputs": [],
   "source": [
    "dfg.sort_values(by='Population')"
   ]
  },
  {
   "cell_type": "code",
   "execution_count": null,
   "id": "0a7e2a5e",
   "metadata": {},
   "outputs": [],
   "source": [
    "dfg.shape"
   ]
  },
  {
   "cell_type": "code",
   "execution_count": null,
   "id": "b5dddaa5",
   "metadata": {},
   "outputs": [],
   "source": [
    "dfg.index"
   ]
  },
  {
   "cell_type": "code",
   "execution_count": null,
   "id": "2263a1af",
   "metadata": {},
   "outputs": [],
   "source": [
    "dfg.columns"
   ]
  },
  {
   "cell_type": "code",
   "execution_count": null,
   "id": "1f9580f5",
   "metadata": {},
   "outputs": [],
   "source": [
    "dfg.info()"
   ]
  },
  {
   "cell_type": "code",
   "execution_count": null,
   "id": "988a8a83",
   "metadata": {},
   "outputs": [],
   "source": [
    "dfg.count()"
   ]
  },
  {
   "cell_type": "code",
   "execution_count": null,
   "id": "06229228",
   "metadata": {},
   "outputs": [],
   "source": [
    "dfg.sum()"
   ]
  },
  {
   "cell_type": "code",
   "execution_count": null,
   "id": "caf364ab",
   "metadata": {},
   "outputs": [],
   "source": [
    "df.cumsum()"
   ]
  },
  {
   "cell_type": "code",
   "execution_count": null,
   "id": "f042c51f",
   "metadata": {},
   "outputs": [],
   "source": [
    "dfg.min()"
   ]
  },
  {
   "cell_type": "code",
   "execution_count": null,
   "id": "e8a8f1d9",
   "metadata": {},
   "outputs": [],
   "source": [
    "dfg.max()"
   ]
  },
  {
   "cell_type": "code",
   "execution_count": null,
   "id": "7fb6d909",
   "metadata": {},
   "outputs": [],
   "source": [
    "dfg.idxmin()"
   ]
  },
  {
   "cell_type": "code",
   "execution_count": null,
   "id": "27c9a85c",
   "metadata": {},
   "outputs": [],
   "source": [
    "dfg.idxmax()"
   ]
  },
  {
   "cell_type": "code",
   "execution_count": null,
   "id": "52aee9db",
   "metadata": {},
   "outputs": [],
   "source": [
    "dfg.describe()"
   ]
  },
  {
   "cell_type": "code",
   "execution_count": null,
   "id": "776119d7",
   "metadata": {},
   "outputs": [],
   "source": [
    "# df.mean()"
   ]
  },
  {
   "cell_type": "code",
   "execution_count": null,
   "id": "c56cac8e",
   "metadata": {},
   "outputs": [],
   "source": [
    "# df.median()"
   ]
  },
  {
   "cell_type": "code",
   "execution_count": null,
   "id": "ed4aece6",
   "metadata": {},
   "outputs": [],
   "source": [
    "f=lambda x:x*2"
   ]
  },
  {
   "cell_type": "code",
   "execution_count": null,
   "id": "3460541d",
   "metadata": {},
   "outputs": [],
   "source": [
    "f(875)"
   ]
  },
  {
   "cell_type": "code",
   "execution_count": null,
   "id": "48342e35",
   "metadata": {},
   "outputs": [],
   "source": [
    "dfg.apply(f)"
   ]
  },
  {
   "cell_type": "code",
   "execution_count": null,
   "id": "7025d8ec",
   "metadata": {},
   "outputs": [],
   "source": [
    "\n",
    "\n",
    "\n",
    "dfg.applymap(f)"
   ]
  },
  {
   "cell_type": "code",
   "execution_count": null,
   "id": "bc96ac54",
   "metadata": {},
   "outputs": [],
   "source": [
    "s3=pd.Series([1,5,-7],index=['a','b','d'])"
   ]
  },
  {
   "cell_type": "code",
   "execution_count": null,
   "id": "82a768f2",
   "metadata": {},
   "outputs": [],
   "source": [
    "\n",
    "s3"
   ]
  },
  {
   "cell_type": "code",
   "execution_count": null,
   "id": "4644c0aa",
   "metadata": {},
   "outputs": [],
   "source": [
    "s"
   ]
  },
  {
   "cell_type": "code",
   "execution_count": null,
   "id": "41fe58a8",
   "metadata": {},
   "outputs": [],
   "source": [
    "s+s3"
   ]
  },
  {
   "cell_type": "code",
   "execution_count": null,
   "id": "083bd15e",
   "metadata": {},
   "outputs": [],
   "source": [
    "s.add(s3,fill_value=0)"
   ]
  },
  {
   "cell_type": "code",
   "execution_count": null,
   "id": "e7b212cc",
   "metadata": {},
   "outputs": [],
   "source": [
    "# nampy\n",
    "import numpy as np"
   ]
  },
  {
   "cell_type": "code",
   "execution_count": null,
   "id": "81729a2d",
   "metadata": {},
   "outputs": [],
   "source": [
    "a=np.array([1,2,3])\n",
    "a"
   ]
  },
  {
   "cell_type": "code",
   "execution_count": null,
   "id": "1a758969",
   "metadata": {},
   "outputs": [],
   "source": [
    "b=np.array([(1.5,2,3),(4,5,6)], dtype=float)"
   ]
  },
  {
   "cell_type": "code",
   "execution_count": null,
   "id": "5cdd5fa3",
   "metadata": {},
   "outputs": [],
   "source": [
    "b"
   ]
  },
  {
   "cell_type": "code",
   "execution_count": null,
   "id": "882eebcf",
   "metadata": {},
   "outputs": [],
   "source": [
    "c=np.array([[(1.5,2,3),(4,5,6)],[(3,2,1),(4,5,6)]], dtype=float)"
   ]
  },
  {
   "cell_type": "code",
   "execution_count": null,
   "id": "1f5bb5a4",
   "metadata": {},
   "outputs": [],
   "source": [
    "c"
   ]
  },
  {
   "cell_type": "code",
   "execution_count": null,
   "id": "f1c0198e",
   "metadata": {},
   "outputs": [],
   "source": [
    "np.zeros((3,2))"
   ]
  },
  {
   "cell_type": "code",
   "execution_count": null,
   "id": "c8696bed",
   "metadata": {},
   "outputs": [],
   "source": [
    "np.full((2,3,4),4)"
   ]
  },
  {
   "cell_type": "code",
   "execution_count": null,
   "id": "c1734ac3",
   "metadata": {},
   "outputs": [],
   "source": [
    "np.ones((2,3,4), dtype=np.int16)"
   ]
  },
  {
   "cell_type": "code",
   "execution_count": null,
   "id": "b078439f",
   "metadata": {},
   "outputs": [],
   "source": [
    "d= np.arange(10,25,5)"
   ]
  },
  {
   "cell_type": "code",
   "execution_count": null,
   "id": "b9e47086",
   "metadata": {},
   "outputs": [],
   "source": [
    "d"
   ]
  },
  {
   "cell_type": "code",
   "execution_count": null,
   "id": "618f4958",
   "metadata": {},
   "outputs": [],
   "source": [
    "np.linspace(1,2,9)"
   ]
  },
  {
   "cell_type": "code",
   "execution_count": null,
   "id": "cc58e30c",
   "metadata": {},
   "outputs": [],
   "source": [
    "e= np.full((2,2) ,7)"
   ]
  },
  {
   "cell_type": "code",
   "execution_count": null,
   "id": "20d9b4a1",
   "metadata": {},
   "outputs": [],
   "source": [
    "e"
   ]
  },
  {
   "cell_type": "code",
   "execution_count": null,
   "id": "c8d90023",
   "metadata": {},
   "outputs": [],
   "source": [
    "f=np.eye((4),dtype=int)"
   ]
  },
  {
   "cell_type": "code",
   "execution_count": null,
   "id": "cb8695c5",
   "metadata": {},
   "outputs": [],
   "source": [
    "f"
   ]
  },
  {
   "cell_type": "code",
   "execution_count": null,
   "id": "17b1ba65",
   "metadata": {},
   "outputs": [],
   "source": [
    "np.random.random((2,2))"
   ]
  },
  {
   "cell_type": "code",
   "execution_count": null,
   "id": "b9e8555d",
   "metadata": {},
   "outputs": [],
   "source": [
    "np.empty((3,2))"
   ]
  },
  {
   "cell_type": "code",
   "execution_count": null,
   "id": "6520b45a",
   "metadata": {},
   "outputs": [],
   "source": [
    "np.save('my_array',a)"
   ]
  },
  {
   "cell_type": "code",
   "execution_count": null,
   "id": "653c375c",
   "metadata": {},
   "outputs": [],
   "source": [
    "# np.savez(['array.npz', a,b])"
   ]
  },
  {
   "cell_type": "code",
   "execution_count": null,
   "id": "7fba3eb2",
   "metadata": {},
   "outputs": [],
   "source": [
    "np.load('my_array.npy')"
   ]
  },
  {
   "cell_type": "code",
   "execution_count": null,
   "id": "af565a43",
   "metadata": {},
   "outputs": [],
   "source": [
    "np.savetxt(\"myarray.txt\", a, delimiter=\" \")"
   ]
  },
  {
   "cell_type": "code",
   "execution_count": null,
   "id": "e8c1984c",
   "metadata": {},
   "outputs": [],
   "source": [
    "np.loadtxt(\"myarray.txt\")"
   ]
  },
  {
   "cell_type": "code",
   "execution_count": null,
   "id": "74014ff0",
   "metadata": {},
   "outputs": [],
   "source": [
    "np.int64"
   ]
  },
  {
   "cell_type": "code",
   "execution_count": null,
   "id": "fb4ebddf",
   "metadata": {},
   "outputs": [],
   "source": [
    "np.float32"
   ]
  },
  {
   "cell_type": "code",
   "execution_count": null,
   "id": "ee174dbc",
   "metadata": {},
   "outputs": [],
   "source": [
    "np.string_"
   ]
  },
  {
   "cell_type": "code",
   "execution_count": null,
   "id": "8f40e875",
   "metadata": {},
   "outputs": [],
   "source": [
    "np.unicode_"
   ]
  },
  {
   "cell_type": "code",
   "execution_count": null,
   "id": "abec30ee",
   "metadata": {},
   "outputs": [],
   "source": [
    "a.shape"
   ]
  },
  {
   "cell_type": "code",
   "execution_count": null,
   "id": "fb54a795",
   "metadata": {},
   "outputs": [],
   "source": [
    "len(a)"
   ]
  },
  {
   "cell_type": "code",
   "execution_count": null,
   "id": "ea74e5e2",
   "metadata": {},
   "outputs": [],
   "source": [
    "b.ndim"
   ]
  },
  {
   "cell_type": "code",
   "execution_count": null,
   "id": "7a5df15e",
   "metadata": {},
   "outputs": [],
   "source": [
    "e.size"
   ]
  },
  {
   "cell_type": "code",
   "execution_count": null,
   "id": "02af33e2",
   "metadata": {},
   "outputs": [],
   "source": [
    "b.dtype"
   ]
  },
  {
   "cell_type": "code",
   "execution_count": null,
   "id": "4de5bcc5",
   "metadata": {},
   "outputs": [],
   "source": [
    "b.dtype.name"
   ]
  },
  {
   "cell_type": "code",
   "execution_count": null,
   "id": "fdc555f2",
   "metadata": {},
   "outputs": [],
   "source": [
    "b.astype(int)"
   ]
  },
  {
   "cell_type": "code",
   "execution_count": null,
   "id": "8a4ca89b",
   "metadata": {},
   "outputs": [],
   "source": [
    "np.info(np.ndarray.dtype)"
   ]
  },
  {
   "cell_type": "code",
   "execution_count": null,
   "id": "a8d64b77",
   "metadata": {},
   "outputs": [],
   "source": [
    "g=a-b"
   ]
  },
  {
   "cell_type": "code",
   "execution_count": null,
   "id": "594fa969",
   "metadata": {},
   "outputs": [],
   "source": [
    "g"
   ]
  },
  {
   "cell_type": "code",
   "execution_count": null,
   "id": "f724778c",
   "metadata": {},
   "outputs": [],
   "source": [
    "np.subtract(a,b)"
   ]
  },
  {
   "cell_type": "code",
   "execution_count": null,
   "id": "f7fe9bb2",
   "metadata": {},
   "outputs": [],
   "source": [
    "b+a"
   ]
  },
  {
   "cell_type": "code",
   "execution_count": null,
   "id": "c4a5662e",
   "metadata": {},
   "outputs": [],
   "source": [
    "np.add(b,a)"
   ]
  },
  {
   "cell_type": "code",
   "execution_count": null,
   "id": "d390077f",
   "metadata": {},
   "outputs": [],
   "source": [
    "\n",
    "a/b"
   ]
  },
  {
   "cell_type": "code",
   "execution_count": null,
   "id": "2f792946",
   "metadata": {},
   "outputs": [],
   "source": [
    "np.divide(a,b)"
   ]
  },
  {
   "cell_type": "code",
   "execution_count": null,
   "id": "f35d54e6",
   "metadata": {},
   "outputs": [],
   "source": [
    "a*b"
   ]
  },
  {
   "cell_type": "code",
   "execution_count": null,
   "id": "08c5f745",
   "metadata": {},
   "outputs": [],
   "source": [
    "np.multiply(a,b)"
   ]
  },
  {
   "cell_type": "code",
   "execution_count": null,
   "id": "8f36f776",
   "metadata": {},
   "outputs": [],
   "source": [
    "np.exp(b)"
   ]
  },
  {
   "cell_type": "code",
   "execution_count": null,
   "id": "90018213",
   "metadata": {},
   "outputs": [],
   "source": [
    "np.sqrt(b)"
   ]
  },
  {
   "cell_type": "code",
   "execution_count": null,
   "id": "9fe14c00",
   "metadata": {},
   "outputs": [],
   "source": [
    "np.sin(a)"
   ]
  },
  {
   "cell_type": "code",
   "execution_count": null,
   "id": "fb630505",
   "metadata": {},
   "outputs": [],
   "source": [
    "np.cos(b)"
   ]
  },
  {
   "cell_type": "code",
   "execution_count": null,
   "id": "174e3720",
   "metadata": {},
   "outputs": [],
   "source": [
    "np.log(a)"
   ]
  },
  {
   "cell_type": "code",
   "execution_count": null,
   "id": "850cd7b5",
   "metadata": {},
   "outputs": [],
   "source": [
    "# a.dot(b)"
   ]
  },
  {
   "cell_type": "code",
   "execution_count": null,
   "id": "dc6cff2b",
   "metadata": {},
   "outputs": [],
   "source": [
    "a==b"
   ]
  },
  {
   "cell_type": "code",
   "execution_count": null,
   "id": "e446142b",
   "metadata": {},
   "outputs": [],
   "source": [
    "a<2"
   ]
  },
  {
   "cell_type": "code",
   "execution_count": null,
   "id": "57761bf0",
   "metadata": {},
   "outputs": [],
   "source": [
    "np.array_equal(a,b)"
   ]
  },
  {
   "cell_type": "code",
   "execution_count": null,
   "id": "fcdbe718",
   "metadata": {},
   "outputs": [],
   "source": [
    "np.std(b)"
   ]
  },
  {
   "cell_type": "code",
   "execution_count": null,
   "id": "4dcb902e",
   "metadata": {},
   "outputs": [],
   "source": [
    "h=a.view()"
   ]
  },
  {
   "cell_type": "code",
   "execution_count": null,
   "id": "20c091e3",
   "metadata": {},
   "outputs": [],
   "source": [
    "h"
   ]
  },
  {
   "cell_type": "code",
   "execution_count": null,
   "id": "da6cc049",
   "metadata": {},
   "outputs": [],
   "source": [
    "np.copy(a)"
   ]
  },
  {
   "cell_type": "code",
   "execution_count": null,
   "id": "3062c533",
   "metadata": {},
   "outputs": [],
   "source": [
    "h=a.copy()"
   ]
  },
  {
   "cell_type": "code",
   "execution_count": null,
   "id": "40cf3b29",
   "metadata": {},
   "outputs": [],
   "source": [
    "h"
   ]
  },
  {
   "cell_type": "code",
   "execution_count": null,
   "id": "e226e954",
   "metadata": {},
   "outputs": [],
   "source": [
    "a.sort()"
   ]
  },
  {
   "cell_type": "code",
   "execution_count": null,
   "id": "c8f50db9",
   "metadata": {},
   "outputs": [],
   "source": [
    "a"
   ]
  },
  {
   "cell_type": "code",
   "execution_count": null,
   "id": "456711d0",
   "metadata": {},
   "outputs": [],
   "source": [
    "c.sort(axis=0)"
   ]
  },
  {
   "cell_type": "code",
   "execution_count": null,
   "id": "f08e93de",
   "metadata": {},
   "outputs": [],
   "source": [
    "c"
   ]
  },
  {
   "cell_type": "code",
   "execution_count": null,
   "id": "c3969c9c",
   "metadata": {},
   "outputs": [],
   "source": [
    "a"
   ]
  },
  {
   "cell_type": "code",
   "execution_count": null,
   "id": "07a8cff9",
   "metadata": {},
   "outputs": [],
   "source": [
    "a[2]"
   ]
  },
  {
   "cell_type": "code",
   "execution_count": null,
   "id": "5139e9b4",
   "metadata": {},
   "outputs": [],
   "source": [
    "b[1,2]"
   ]
  },
  {
   "cell_type": "code",
   "execution_count": null,
   "id": "0b80bb3e",
   "metadata": {},
   "outputs": [],
   "source": [
    "a[:2]"
   ]
  },
  {
   "cell_type": "code",
   "execution_count": null,
   "id": "15a0ef91",
   "metadata": {},
   "outputs": [],
   "source": [
    "b[0:2,1]"
   ]
  },
  {
   "cell_type": "code",
   "execution_count": null,
   "id": "59dd3b07",
   "metadata": {},
   "outputs": [],
   "source": [
    "b[:1]"
   ]
  },
  {
   "cell_type": "code",
   "execution_count": null,
   "id": "8835bbc6",
   "metadata": {},
   "outputs": [],
   "source": [
    "c[1,...]"
   ]
  },
  {
   "cell_type": "code",
   "execution_count": null,
   "id": "cd929967",
   "metadata": {},
   "outputs": [],
   "source": [
    "a[::-1]"
   ]
  },
  {
   "cell_type": "code",
   "execution_count": null,
   "id": "e3f5a267",
   "metadata": {},
   "outputs": [],
   "source": [
    "a[a<2]"
   ]
  },
  {
   "cell_type": "code",
   "execution_count": null,
   "id": "6faac15e",
   "metadata": {},
   "outputs": [],
   "source": []
  },
  {
   "cell_type": "code",
   "execution_count": null,
   "id": "a809c209",
   "metadata": {},
   "outputs": [],
   "source": [
    "i=np.transpose(b)"
   ]
  },
  {
   "cell_type": "code",
   "execution_count": null,
   "id": "26e210de",
   "metadata": {},
   "outputs": [],
   "source": [
    "i.T"
   ]
  },
  {
   "cell_type": "code",
   "execution_count": null,
   "id": "05699fb6",
   "metadata": {},
   "outputs": [],
   "source": [
    "b.ravel()"
   ]
  },
  {
   "cell_type": "code",
   "execution_count": null,
   "id": "a8f891a9",
   "metadata": {},
   "outputs": [],
   "source": [
    "\n",
    "\n",
    "g\n"
   ]
  },
  {
   "cell_type": "code",
   "execution_count": null,
   "id": "5c10dbaa",
   "metadata": {},
   "outputs": [],
   "source": [
    "g.reshape(3,-2)"
   ]
  },
  {
   "cell_type": "code",
   "execution_count": null,
   "id": "83b7a68f",
   "metadata": {},
   "outputs": [],
   "source": [
    "# h.resize((2,6))\n",
    "np.append(h,g)"
   ]
  },
  {
   "cell_type": "code",
   "execution_count": null,
   "id": "d56c1d89",
   "metadata": {},
   "outputs": [],
   "source": [
    "# np.insert(a,1,5)\n",
    "a=[1,2,3]"
   ]
  },
  {
   "cell_type": "code",
   "execution_count": null,
   "id": "6a09fdf9",
   "metadata": {},
   "outputs": [],
   "source": [
    "np.resize(a,6)"
   ]
  },
  {
   "cell_type": "raw",
   "id": "8e2f4d08",
   "metadata": {},
   "source": [
    "jkhjj"
   ]
  },
  {
   "cell_type": "code",
   "execution_count": null,
   "id": "13d6de26",
   "metadata": {},
   "outputs": [],
   "source": [
    "np.insert(a,2, 4)\n"
   ]
  },
  {
   "cell_type": "code",
   "execution_count": null,
   "id": "26d8e8cd",
   "metadata": {},
   "outputs": [],
   "source": [
    "np.delete(a,[1])"
   ]
  },
  {
   "cell_type": "code",
   "execution_count": null,
   "id": "164dbae8",
   "metadata": {},
   "outputs": [],
   "source": [
    "np.concatenate((a,d),axis=0)"
   ]
  },
  {
   "cell_type": "code",
   "execution_count": null,
   "id": "67d3afdd",
   "metadata": {},
   "outputs": [],
   "source": [
    "d"
   ]
  },
  {
   "cell_type": "code",
   "execution_count": null,
   "id": "e50219da",
   "metadata": {},
   "outputs": [],
   "source": [
    "np.vstack((a,b))"
   ]
  },
  {
   "cell_type": "code",
   "execution_count": null,
   "id": "07c30047",
   "metadata": {},
   "outputs": [],
   "source": [
    "# np.r_[e,f]\n",
    "# np.hstack(e,f)"
   ]
  },
  {
   "cell_type": "code",
   "execution_count": null,
   "id": "91843c2f",
   "metadata": {},
   "outputs": [],
   "source": [
    "np.column_stack((a,d))"
   ]
  },
  {
   "cell_type": "code",
   "execution_count": null,
   "id": "239b8858",
   "metadata": {},
   "outputs": [],
   "source": [
    "# np.hsplit(a,3)\n",
    "np.vsplit(c,2)"
   ]
  },
  {
   "cell_type": "code",
   "execution_count": null,
   "id": "babb10ee",
   "metadata": {},
   "outputs": [],
   "source": [
    "import numpy as np"
   ]
  },
  {
   "cell_type": "code",
   "execution_count": null,
   "id": "049a4641",
   "metadata": {},
   "outputs": [],
   "source": [
    "a=np.array([1,2,3])"
   ]
  },
  {
   "cell_type": "code",
   "execution_count": null,
   "id": "15bfbfb9",
   "metadata": {},
   "outputs": [],
   "source": [
    "a"
   ]
  },
  {
   "cell_type": "code",
   "execution_count": null,
   "id": "725baa23",
   "metadata": {},
   "outputs": [],
   "source": [
    "b=np.array([(1+5j,2j,3j), (4j,5j,6j)])"
   ]
  },
  {
   "cell_type": "code",
   "execution_count": null,
   "id": "1aeef39c",
   "metadata": {},
   "outputs": [],
   "source": [
    "b"
   ]
  },
  {
   "cell_type": "code",
   "execution_count": null,
   "id": "095e1530",
   "metadata": {},
   "outputs": [],
   "source": [
    "c=np.array([[(1.5,2,3),(4,5,6)], [(3,2,1),(4,5,6)]])"
   ]
  },
  {
   "cell_type": "code",
   "execution_count": null,
   "id": "7391b6e3",
   "metadata": {},
   "outputs": [],
   "source": [
    "c"
   ]
  },
  {
   "cell_type": "code",
   "execution_count": null,
   "id": "47a4fc3b",
   "metadata": {},
   "outputs": [],
   "source": [
    "np.mgrid[0:5, 0:5]"
   ]
  },
  {
   "cell_type": "code",
   "execution_count": null,
   "id": "062745f5",
   "metadata": {},
   "outputs": [],
   "source": [
    "\n",
    "np.ogrid[0:2,0:2]"
   ]
  },
  {
   "cell_type": "code",
   "execution_count": null,
   "id": "38044871",
   "metadata": {},
   "outputs": [],
   "source": [
    "np.r_[3,[0]*5, -1:1:10j]"
   ]
  },
  {
   "cell_type": "code",
   "execution_count": null,
   "id": "6ed64c3d",
   "metadata": {},
   "outputs": [],
   "source": [
    "# np.c_[b,c]"
   ]
  },
  {
   "cell_type": "code",
   "execution_count": null,
   "id": "399ce650",
   "metadata": {},
   "outputs": [],
   "source": [
    "b"
   ]
  },
  {
   "cell_type": "code",
   "execution_count": null,
   "id": "3b9fad0e",
   "metadata": {},
   "outputs": [],
   "source": [
    "np.transpose(b)"
   ]
  },
  {
   "cell_type": "code",
   "execution_count": null,
   "id": "2b4b0c59",
   "metadata": {},
   "outputs": [],
   "source": [
    "b.flatten()"
   ]
  },
  {
   "cell_type": "code",
   "execution_count": null,
   "id": "f65c9e7b",
   "metadata": {},
   "outputs": [],
   "source": [
    "# np.hstack((a,c))"
   ]
  },
  {
   "cell_type": "code",
   "execution_count": null,
   "id": "0dd3e25b",
   "metadata": {},
   "outputs": [],
   "source": [
    "np.vstack((a,b))"
   ]
  },
  {
   "cell_type": "code",
   "execution_count": null,
   "id": "9e09673e",
   "metadata": {},
   "outputs": [],
   "source": [
    "np.hsplit(c,2)"
   ]
  },
  {
   "cell_type": "code",
   "execution_count": null,
   "id": "c52afdf3",
   "metadata": {},
   "outputs": [],
   "source": [
    "c"
   ]
  },
  {
   "cell_type": "code",
   "execution_count": null,
   "id": "67d8c657",
   "metadata": {},
   "outputs": [],
   "source": [
    "# np.vsplit(d,2)"
   ]
  },
  {
   "cell_type": "code",
   "execution_count": null,
   "id": "e4b9fd36",
   "metadata": {},
   "outputs": [],
   "source": [
    "#   polynomial"
   ]
  },
  {
   "cell_type": "code",
   "execution_count": null,
   "id": "92e1d66b",
   "metadata": {},
   "outputs": [],
   "source": [
    "from numpy import  poly1d\n",
    "p = poly1d([3,4,5])"
   ]
  },
  {
   "cell_type": "code",
   "execution_count": null,
   "id": "8ece0383",
   "metadata": {},
   "outputs": [],
   "source": [
    "p"
   ]
  },
  {
   "cell_type": "code",
   "execution_count": null,
   "id": "01fc17d1",
   "metadata": {},
   "outputs": [],
   "source": [
    "print(np.poly1d(p))"
   ]
  },
  {
   "cell_type": "code",
   "execution_count": null,
   "id": "3bbcdbd4",
   "metadata": {},
   "outputs": [],
   "source": [
    "def my_func(a):\n",
    "    if a<0:\n",
    "        return a*2\n",
    "    else:\n",
    "        return a/2\n",
    "print(np.vectorize(my_func))"
   ]
  },
  {
   "cell_type": "code",
   "execution_count": null,
   "id": "ac691732",
   "metadata": {},
   "outputs": [],
   "source": [
    "np.real(c)                                                                                                                "
   ]
  },
  {
   "cell_type": "code",
   "execution_count": null,
   "id": "ccd793c1",
   "metadata": {},
   "outputs": [],
   "source": [
    "np.imag(c)"
   ]
  },
  {
   "cell_type": "code",
   "execution_count": null,
   "id": "9a02d5cf",
   "metadata": {},
   "outputs": [],
   "source": [
    "c"
   ]
  },
  {
   "cell_type": "code",
   "execution_count": null,
   "id": "06d329ed",
   "metadata": {},
   "outputs": [],
   "source": [
    "np.real_if_close(c,tol=1000)"
   ]
  },
  {
   "cell_type": "code",
   "execution_count": null,
   "id": "061e309f",
   "metadata": {},
   "outputs": [],
   "source": [
    "np.cast['f'](np.pi)"
   ]
  },
  {
   "cell_type": "code",
   "execution_count": null,
   "id": "95bc2f98",
   "metadata": {},
   "outputs": [],
   "source": [
    "f"
   ]
  },
  {
   "cell_type": "code",
   "execution_count": null,
   "id": "4a9ea009",
   "metadata": {},
   "outputs": [],
   "source": [
    "np.angle(b,deg=True)"
   ]
  },
  {
   "cell_type": "code",
   "execution_count": null,
   "id": "25dd916f",
   "metadata": {},
   "outputs": [],
   "source": [
    "b"
   ]
  },
  {
   "cell_type": "code",
   "execution_count": null,
   "id": "b8fdb96c",
   "metadata": {},
   "outputs": [],
   "source": [
    "g= np.linspace(0,np.pi,num=5)"
   ]
  },
  {
   "cell_type": "code",
   "execution_count": null,
   "id": "6083ec8a",
   "metadata": {},
   "outputs": [],
   "source": [
    "g"
   ]
  },
  {
   "cell_type": "code",
   "execution_count": null,
   "id": "4b7c7593",
   "metadata": {},
   "outputs": [],
   "source": [
    "# print(g[3:] += np.pi)"
   ]
  },
  {
   "cell_type": "code",
   "execution_count": null,
   "id": "ad0510b3",
   "metadata": {},
   "outputs": [],
   "source": [
    "np.unwrap(g)"
   ]
  },
  {
   "cell_type": "code",
   "execution_count": null,
   "id": "5a8c2dee",
   "metadata": {},
   "outputs": [],
   "source": [
    "np.logspace(0,10,3)"
   ]
  },
  {
   "cell_type": "markdown",
   "id": "e0b59fed",
   "metadata": {},
   "source": []
  },
  {
   "cell_type": "code",
   "execution_count": null,
   "id": "9293a371",
   "metadata": {},
   "outputs": [],
   "source": [
    "np.select([c<4],[c*2])"
   ]
  },
  {
   "cell_type": "code",
   "execution_count": null,
   "id": "596d37a9",
   "metadata": {},
   "outputs": [],
   "source": [
    "a"
   ]
  },
  {
   "cell_type": "code",
   "execution_count": null,
   "id": "84f08275",
   "metadata": {},
   "outputs": [],
   "source": [
    "from scipy import misc\n",
    "from scipy.special import factorial\n",
    "# ! pip install scipy==1.2 --upgrade"
   ]
  },
  {
   "cell_type": "code",
   "execution_count": null,
   "id": "e3ff20e4",
   "metadata": {},
   "outputs": [],
   "source": [
    "\n",
    "# misc.factorial(a)"
   ]
  },
  {
   "cell_type": "code",
   "execution_count": null,
   "id": "ee6dfba4",
   "metadata": {},
   "outputs": [],
   "source": [
    "# misc.comb(10,3,exact=True)\n",
    "misc.central_diff_weights(3)"
   ]
  },
  {
   "cell_type": "code",
   "execution_count": null,
   "id": "3ea573ff",
   "metadata": {},
   "outputs": [],
   "source": [
    "# misc.derivative(myfunc,1.0)"
   ]
  },
  {
   "cell_type": "code",
   "execution_count": null,
   "id": "96a1a6f3",
   "metadata": {},
   "outputs": [],
   "source": [
    "from scipy import linalg, sparse"
   ]
  },
  {
   "cell_type": "code",
   "execution_count": null,
   "id": "1e37e2bc",
   "metadata": {},
   "outputs": [],
   "source": [
    "A= np.matrix(np.random.random((2,2)))"
   ]
  },
  {
   "cell_type": "code",
   "execution_count": null,
   "id": "6988f54a",
   "metadata": {},
   "outputs": [],
   "source": [
    "A"
   ]
  },
  {
   "cell_type": "code",
   "execution_count": null,
   "id": "67c6073c",
   "metadata": {},
   "outputs": [],
   "source": [
    "B= np.asmatrix(b)"
   ]
  },
  {
   "cell_type": "code",
   "execution_count": null,
   "id": "4f5e33d3",
   "metadata": {},
   "outputs": [],
   "source": [
    "B"
   ]
  },
  {
   "cell_type": "code",
   "execution_count": null,
   "id": "e3924e57",
   "metadata": {},
   "outputs": [],
   "source": [
    "C= np.mat(np.random.random((10,5)))"
   ]
  },
  {
   "cell_type": "code",
   "execution_count": null,
   "id": "37b7226a",
   "metadata": {},
   "outputs": [],
   "source": [
    "C"
   ]
  },
  {
   "cell_type": "code",
   "execution_count": null,
   "id": "21b5ecdb",
   "metadata": {},
   "outputs": [],
   "source": [
    "D= np.mat([[3,4], [5,6]])"
   ]
  },
  {
   "cell_type": "code",
   "execution_count": null,
   "id": "b26c1952",
   "metadata": {},
   "outputs": [],
   "source": [
    "D"
   ]
  },
  {
   "cell_type": "code",
   "execution_count": null,
   "id": "a9a0e9d5",
   "metadata": {},
   "outputs": [],
   "source": [
    "A.I"
   ]
  },
  {
   "cell_type": "code",
   "execution_count": null,
   "id": "bcaaf800",
   "metadata": {},
   "outputs": [],
   "source": [
    "linalg.inv(A)"
   ]
  },
  {
   "cell_type": "code",
   "execution_count": null,
   "id": "f1c45c25",
   "metadata": {},
   "outputs": [],
   "source": [
    "A.T"
   ]
  },
  {
   "cell_type": "code",
   "execution_count": null,
   "id": "c7c27551",
   "metadata": {},
   "outputs": [],
   "source": [
    "A.H"
   ]
  },
  {
   "cell_type": "code",
   "execution_count": null,
   "id": "93406650",
   "metadata": {},
   "outputs": [],
   "source": [
    "np.trace(A)"
   ]
  },
  {
   "cell_type": "code",
   "execution_count": null,
   "id": "a9ec1abf",
   "metadata": {},
   "outputs": [],
   "source": [
    "# nonorm\n",
    "A"
   ]
  },
  {
   "cell_type": "code",
   "execution_count": null,
   "id": "77e81792",
   "metadata": {},
   "outputs": [],
   "source": [
    "linalg.norm(A)"
   ]
  },
  {
   "cell_type": "code",
   "execution_count": null,
   "id": "d68954dd",
   "metadata": {},
   "outputs": [],
   "source": [
    "linalg.norm(A,1)"
   ]
  },
  {
   "cell_type": "code",
   "execution_count": null,
   "id": "3d343d61",
   "metadata": {},
   "outputs": [],
   "source": [
    "linalg.norm(A,np.inf)"
   ]
  },
  {
   "cell_type": "code",
   "execution_count": null,
   "id": "faf6d6b2",
   "metadata": {},
   "outputs": [],
   "source": [
    "np.linalg.matrix_rank(c)"
   ]
  },
  {
   "cell_type": "code",
   "execution_count": null,
   "id": "9de6a7d9",
   "metadata": {},
   "outputs": [],
   "source": [
    "c"
   ]
  },
  {
   "cell_type": "code",
   "execution_count": null,
   "id": "aeeed98b",
   "metadata": {},
   "outputs": [],
   "source": [
    "linalg.det(A)"
   ]
  },
  {
   "cell_type": "code",
   "execution_count": null,
   "id": "4d564325",
   "metadata": {},
   "outputs": [],
   "source": [
    "E= np.mat(a).T"
   ]
  },
  {
   "cell_type": "code",
   "execution_count": null,
   "id": "373033dc",
   "metadata": {},
   "outputs": [],
   "source": [
    "E"
   ]
  },
  {
   "cell_type": "markdown",
   "id": "1b4af85a",
   "metadata": {},
   "source": [
    "# "
   ]
  },
  {
   "cell_type": "code",
   "execution_count": null,
   "id": "2ca3cb3f",
   "metadata": {},
   "outputs": [],
   "source": [
    "# linalg.lstsq(D,E)"
   ]
  },
  {
   "cell_type": "code",
   "execution_count": null,
   "id": "0e04e0a2",
   "metadata": {},
   "outputs": [],
   "source": [
    "linalg.pinv(C)"
   ]
  },
  {
   "cell_type": "code",
   "execution_count": null,
   "id": "e32fdcef",
   "metadata": {},
   "outputs": [],
   "source": [
    "linalg.pinv2(C)"
   ]
  },
  {
   "cell_type": "code",
   "execution_count": null,
   "id": "1a129e66",
   "metadata": {},
   "outputs": [],
   "source": []
  }
 ],
 "metadata": {
  "kernelspec": {
   "display_name": "Python 3 (ipykernel)",
   "language": "python",
   "name": "python3"
  },
  "language_info": {
   "codemirror_mode": {
    "name": "ipython",
    "version": 3
   },
   "file_extension": ".py",
   "mimetype": "text/x-python",
   "name": "python",
   "nbconvert_exporter": "python",
   "pygments_lexer": "ipython3",
   "version": "3.10.9"
  }
 },
 "nbformat": 4,
 "nbformat_minor": 5
}
